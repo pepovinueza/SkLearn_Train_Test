{
 "cells": [
  {
   "cell_type": "markdown",
   "id": "751e59c9",
   "metadata": {},
   "source": [
    "# <span style=color:blue><b>SPRINT 5 - Tarea M5 T02</b></span>  \n",
    "\n",
    "**Ejercicios de Train-Test con ScikitLearn a partir de un dataset con información sobre las viviendas de Houston.**  \n",
    "**Concerns housing values in suburbs of Boston.**"
   ]
  },
  {
   "cell_type": "markdown",
   "id": "466bed01",
   "metadata": {},
   "source": [
    "## Ejercicio 1\n",
    "<span style=color:green><b><i>Parte el conjunto de datos adjunto en train y test. Estudia ambos conjuntos por separado, a nivel descriptivo. También adjunto encontrarás una descripción de las diferentes variables del dataset.</i></b></span>"
   ]
  },
  {
   "cell_type": "code",
   "execution_count": 1,
   "id": "2033ab4e",
   "metadata": {},
   "outputs": [],
   "source": [
    "# importing libraries\n",
    "import numpy as np\n",
    "import pandas as pd\n",
    "import matplotlib.pyplot as plt\n",
    "import seaborn as sns"
   ]
  },
  {
   "cell_type": "code",
   "execution_count": 2,
   "id": "1a65e8ea",
   "metadata": {},
   "outputs": [],
   "source": [
    "# Open the choosen file\n",
    "BasePath = \"C:/Users/Pepo/Desktop/Data Science/Barcelona Activa\"\n",
    "Archivo = BasePath + \"/Sprint 5. Introducción al Test de Hipótesis y al Machine Learning\"\n",
    "\n",
    "df = pd.read_csv(Archivo + '/Tarea 2_ViviendasHouston/housing data.csv', \n",
    "                header = None, \n",
    "                 names = [\"CRIM\", \"ZN\", \"INDUS\", \"CHAS\", \"NOX\", \"RM\", \n",
    "                          \"AGE\", \"DIS\", \"RAD\", \"TAX\", \"PTRATIO\", \"B\", \"LSTAT\", \"MEDV\"])"
   ]
  },
  {
   "cell_type": "code",
   "execution_count": 3,
   "id": "fef4b1e3",
   "metadata": {
    "scrolled": true
   },
   "outputs": [
    {
     "name": "stdout",
     "output_type": "stream",
     "text": [
      "<class 'pandas.core.frame.DataFrame'>\n",
      "RangeIndex: 506 entries, 0 to 505\n",
      "Data columns (total 14 columns):\n",
      " #   Column   Non-Null Count  Dtype  \n",
      "---  ------   --------------  -----  \n",
      " 0   CRIM     506 non-null    float64\n",
      " 1   ZN       506 non-null    float64\n",
      " 2   INDUS    506 non-null    float64\n",
      " 3   CHAS     506 non-null    int64  \n",
      " 4   NOX      506 non-null    float64\n",
      " 5   RM       506 non-null    float64\n",
      " 6   AGE      506 non-null    float64\n",
      " 7   DIS      506 non-null    float64\n",
      " 8   RAD      506 non-null    int64  \n",
      " 9   TAX      506 non-null    float64\n",
      " 10  PTRATIO  506 non-null    float64\n",
      " 11  B        506 non-null    float64\n",
      " 12  LSTAT    506 non-null    float64\n",
      " 13  MEDV     506 non-null    float64\n",
      "dtypes: float64(12), int64(2)\n",
      "memory usage: 55.5 KB\n"
     ]
    }
   ],
   "source": [
    "df.info()"
   ]
  },
  {
   "cell_type": "markdown",
   "id": "2ffe31b7",
   "metadata": {},
   "source": [
    "**Attribute Information:**  \n",
    "  \n",
    "    1. CRIM         per capita crime rate by town  \n",
    "    2. ZN           proportion of residential land zoned for lots over 25,000 sq.ft.  \n",
    "    3. INDUS        proportion of non-retail business acres per town  \n",
    "    4. CHAS         Charles River dummy variable (= 1 if tract bounds river; 0 otherwise)  \n",
    "    5. NOX          nitric oxides concentration (parts per 10 million)  \n",
    "    6. RM           average number of rooms per dwelling  \n",
    "    7. AGE          proportion of owner-occupied units built prior to 1940  \n",
    "    8. DIS          weighted distances to five Boston employment centres  \n",
    "    9. RAD          index of accessibility to radial highways  \n",
    "    10. TAX         full-value property-tax rate per $10,000  \n",
    "11. PTRATIO     pupil-teacher ratio by town  \n",
    "12. B           1000(Bk - 0.63)^2 where Bk is the proportion of blacks by town  \n",
    "13. LSTAT       % lower status of the population  \n",
    "14. MEDV        Median value of owner-occupied homes in $1000's"
   ]
  },
  {
   "cell_type": "code",
   "execution_count": 4,
   "id": "b2e64fce",
   "metadata": {},
   "outputs": [
    {
     "data": {
      "text/html": [
       "<div>\n",
       "<style scoped>\n",
       "    .dataframe tbody tr th:only-of-type {\n",
       "        vertical-align: middle;\n",
       "    }\n",
       "\n",
       "    .dataframe tbody tr th {\n",
       "        vertical-align: top;\n",
       "    }\n",
       "\n",
       "    .dataframe thead th {\n",
       "        text-align: right;\n",
       "    }\n",
       "</style>\n",
       "<table border=\"1\" class=\"dataframe\">\n",
       "  <thead>\n",
       "    <tr style=\"text-align: right;\">\n",
       "      <th></th>\n",
       "      <th>CRIM</th>\n",
       "      <th>ZN</th>\n",
       "      <th>INDUS</th>\n",
       "      <th>CHAS</th>\n",
       "      <th>NOX</th>\n",
       "      <th>RM</th>\n",
       "      <th>AGE</th>\n",
       "      <th>DIS</th>\n",
       "      <th>RAD</th>\n",
       "      <th>TAX</th>\n",
       "      <th>PTRATIO</th>\n",
       "      <th>B</th>\n",
       "      <th>LSTAT</th>\n",
       "      <th>MEDV</th>\n",
       "    </tr>\n",
       "  </thead>\n",
       "  <tbody>\n",
       "    <tr>\n",
       "      <th>0</th>\n",
       "      <td>0.00632</td>\n",
       "      <td>18.0</td>\n",
       "      <td>2.31</td>\n",
       "      <td>0</td>\n",
       "      <td>0.538</td>\n",
       "      <td>6.575</td>\n",
       "      <td>65.2</td>\n",
       "      <td>4.0900</td>\n",
       "      <td>1</td>\n",
       "      <td>296.0</td>\n",
       "      <td>15.3</td>\n",
       "      <td>396.90</td>\n",
       "      <td>4.98</td>\n",
       "      <td>24.0</td>\n",
       "    </tr>\n",
       "    <tr>\n",
       "      <th>1</th>\n",
       "      <td>0.02731</td>\n",
       "      <td>0.0</td>\n",
       "      <td>7.07</td>\n",
       "      <td>0</td>\n",
       "      <td>0.469</td>\n",
       "      <td>6.421</td>\n",
       "      <td>78.9</td>\n",
       "      <td>4.9671</td>\n",
       "      <td>2</td>\n",
       "      <td>242.0</td>\n",
       "      <td>17.8</td>\n",
       "      <td>396.90</td>\n",
       "      <td>9.14</td>\n",
       "      <td>21.6</td>\n",
       "    </tr>\n",
       "    <tr>\n",
       "      <th>2</th>\n",
       "      <td>0.02729</td>\n",
       "      <td>0.0</td>\n",
       "      <td>7.07</td>\n",
       "      <td>0</td>\n",
       "      <td>0.469</td>\n",
       "      <td>7.185</td>\n",
       "      <td>61.1</td>\n",
       "      <td>4.9671</td>\n",
       "      <td>2</td>\n",
       "      <td>242.0</td>\n",
       "      <td>17.8</td>\n",
       "      <td>392.83</td>\n",
       "      <td>4.03</td>\n",
       "      <td>34.7</td>\n",
       "    </tr>\n",
       "    <tr>\n",
       "      <th>3</th>\n",
       "      <td>0.03237</td>\n",
       "      <td>0.0</td>\n",
       "      <td>2.18</td>\n",
       "      <td>0</td>\n",
       "      <td>0.458</td>\n",
       "      <td>6.998</td>\n",
       "      <td>45.8</td>\n",
       "      <td>6.0622</td>\n",
       "      <td>3</td>\n",
       "      <td>222.0</td>\n",
       "      <td>18.7</td>\n",
       "      <td>394.63</td>\n",
       "      <td>2.94</td>\n",
       "      <td>33.4</td>\n",
       "    </tr>\n",
       "    <tr>\n",
       "      <th>4</th>\n",
       "      <td>0.06905</td>\n",
       "      <td>0.0</td>\n",
       "      <td>2.18</td>\n",
       "      <td>0</td>\n",
       "      <td>0.458</td>\n",
       "      <td>7.147</td>\n",
       "      <td>54.2</td>\n",
       "      <td>6.0622</td>\n",
       "      <td>3</td>\n",
       "      <td>222.0</td>\n",
       "      <td>18.7</td>\n",
       "      <td>396.90</td>\n",
       "      <td>5.33</td>\n",
       "      <td>36.2</td>\n",
       "    </tr>\n",
       "  </tbody>\n",
       "</table>\n",
       "</div>"
      ],
      "text/plain": [
       "      CRIM    ZN  INDUS  CHAS    NOX     RM   AGE     DIS  RAD    TAX  \\\n",
       "0  0.00632  18.0   2.31     0  0.538  6.575  65.2  4.0900    1  296.0   \n",
       "1  0.02731   0.0   7.07     0  0.469  6.421  78.9  4.9671    2  242.0   \n",
       "2  0.02729   0.0   7.07     0  0.469  7.185  61.1  4.9671    2  242.0   \n",
       "3  0.03237   0.0   2.18     0  0.458  6.998  45.8  6.0622    3  222.0   \n",
       "4  0.06905   0.0   2.18     0  0.458  7.147  54.2  6.0622    3  222.0   \n",
       "\n",
       "   PTRATIO       B  LSTAT  MEDV  \n",
       "0     15.3  396.90   4.98  24.0  \n",
       "1     17.8  396.90   9.14  21.6  \n",
       "2     17.8  392.83   4.03  34.7  \n",
       "3     18.7  394.63   2.94  33.4  \n",
       "4     18.7  396.90   5.33  36.2  "
      ]
     },
     "execution_count": 4,
     "metadata": {},
     "output_type": "execute_result"
    }
   ],
   "source": [
    "df.head()"
   ]
  },
  {
   "cell_type": "code",
   "execution_count": 5,
   "id": "5fe89eb1",
   "metadata": {},
   "outputs": [
    {
     "data": {
      "text/plain": [
       "<Figure size 1440x720 with 0 Axes>"
      ]
     },
     "metadata": {},
     "output_type": "display_data"
    },
    {
     "data": {
      "image/png": "[encoded data removed]",
      "text/plain": [
       "<Figure size 432x288 with 16 Axes>"
      ]
     },
     "metadata": {
      "needs_background": "light"
     },
     "output_type": "display_data"
    }
   ],
   "source": [
    "plt.figure(figsize = (20,10))\n",
    "df.hist()\n",
    "plt.tight_layout() # para que no se superpongan las graficas"
   ]
  },
  {
   "cell_type": "code",
   "execution_count": 6,
   "id": "3b429100",
   "metadata": {},
   "outputs": [
    {
     "data": {
      "text/html": [
       "<div>\n",
       "<style scoped>\n",
       "    .dataframe tbody tr th:only-of-type {\n",
       "        vertical-align: middle;\n",
       "    }\n",
       "\n",
       "    .dataframe tbody tr th {\n",
       "        vertical-align: top;\n",
       "    }\n",
       "\n",
       "    .dataframe thead th {\n",
       "        text-align: right;\n",
       "    }\n",
       "</style>\n",
       "<table border=\"1\" class=\"dataframe\">\n",
       "  <thead>\n",
       "    <tr style=\"text-align: right;\">\n",
       "      <th></th>\n",
       "      <th>CRIM</th>\n",
       "      <th>ZN</th>\n",
       "      <th>INDUS</th>\n",
       "      <th>CHAS</th>\n",
       "      <th>NOX</th>\n",
       "      <th>RM</th>\n",
       "      <th>AGE</th>\n",
       "      <th>DIS</th>\n",
       "      <th>RAD</th>\n",
       "      <th>TAX</th>\n",
       "      <th>PTRATIO</th>\n",
       "      <th>B</th>\n",
       "      <th>LSTAT</th>\n",
       "      <th>MEDV</th>\n",
       "    </tr>\n",
       "  </thead>\n",
       "  <tbody>\n",
       "    <tr>\n",
       "      <th>count</th>\n",
       "      <td>506.00</td>\n",
       "      <td>506.00</td>\n",
       "      <td>506.00</td>\n",
       "      <td>506.00</td>\n",
       "      <td>506.00</td>\n",
       "      <td>506.00</td>\n",
       "      <td>506.00</td>\n",
       "      <td>506.00</td>\n",
       "      <td>506.00</td>\n",
       "      <td>506.00</td>\n",
       "      <td>506.00</td>\n",
       "      <td>506.00</td>\n",
       "      <td>506.00</td>\n",
       "      <td>506.00</td>\n",
       "    </tr>\n",
       "    <tr>\n",
       "      <th>mean</th>\n",
       "      <td>3.61</td>\n",
       "      <td>11.36</td>\n",
       "      <td>11.14</td>\n",
       "      <td>0.07</td>\n",
       "      <td>0.55</td>\n",
       "      <td>6.28</td>\n",
       "      <td>68.57</td>\n",
       "      <td>3.80</td>\n",
       "      <td>9.55</td>\n",
       "      <td>408.24</td>\n",
       "      <td>18.46</td>\n",
       "      <td>356.67</td>\n",
       "      <td>12.65</td>\n",
       "      <td>22.53</td>\n",
       "    </tr>\n",
       "    <tr>\n",
       "      <th>std</th>\n",
       "      <td>8.60</td>\n",
       "      <td>23.32</td>\n",
       "      <td>6.86</td>\n",
       "      <td>0.25</td>\n",
       "      <td>0.12</td>\n",
       "      <td>0.70</td>\n",
       "      <td>28.15</td>\n",
       "      <td>2.11</td>\n",
       "      <td>8.71</td>\n",
       "      <td>168.54</td>\n",
       "      <td>2.16</td>\n",
       "      <td>91.29</td>\n",
       "      <td>7.14</td>\n",
       "      <td>9.20</td>\n",
       "    </tr>\n",
       "    <tr>\n",
       "      <th>min</th>\n",
       "      <td>0.01</td>\n",
       "      <td>0.00</td>\n",
       "      <td>0.46</td>\n",
       "      <td>0.00</td>\n",
       "      <td>0.38</td>\n",
       "      <td>3.56</td>\n",
       "      <td>2.90</td>\n",
       "      <td>1.13</td>\n",
       "      <td>1.00</td>\n",
       "      <td>187.00</td>\n",
       "      <td>12.60</td>\n",
       "      <td>0.32</td>\n",
       "      <td>1.73</td>\n",
       "      <td>5.00</td>\n",
       "    </tr>\n",
       "    <tr>\n",
       "      <th>25%</th>\n",
       "      <td>0.08</td>\n",
       "      <td>0.00</td>\n",
       "      <td>5.19</td>\n",
       "      <td>0.00</td>\n",
       "      <td>0.45</td>\n",
       "      <td>5.89</td>\n",
       "      <td>45.02</td>\n",
       "      <td>2.10</td>\n",
       "      <td>4.00</td>\n",
       "      <td>279.00</td>\n",
       "      <td>17.40</td>\n",
       "      <td>375.38</td>\n",
       "      <td>6.95</td>\n",
       "      <td>17.02</td>\n",
       "    </tr>\n",
       "    <tr>\n",
       "      <th>50%</th>\n",
       "      <td>0.26</td>\n",
       "      <td>0.00</td>\n",
       "      <td>9.69</td>\n",
       "      <td>0.00</td>\n",
       "      <td>0.54</td>\n",
       "      <td>6.21</td>\n",
       "      <td>77.50</td>\n",
       "      <td>3.21</td>\n",
       "      <td>5.00</td>\n",
       "      <td>330.00</td>\n",
       "      <td>19.05</td>\n",
       "      <td>391.44</td>\n",
       "      <td>11.36</td>\n",
       "      <td>21.20</td>\n",
       "    </tr>\n",
       "    <tr>\n",
       "      <th>75%</th>\n",
       "      <td>3.68</td>\n",
       "      <td>12.50</td>\n",
       "      <td>18.10</td>\n",
       "      <td>0.00</td>\n",
       "      <td>0.62</td>\n",
       "      <td>6.62</td>\n",
       "      <td>94.07</td>\n",
       "      <td>5.19</td>\n",
       "      <td>24.00</td>\n",
       "      <td>666.00</td>\n",
       "      <td>20.20</td>\n",
       "      <td>396.22</td>\n",
       "      <td>16.96</td>\n",
       "      <td>25.00</td>\n",
       "    </tr>\n",
       "    <tr>\n",
       "      <th>max</th>\n",
       "      <td>88.98</td>\n",
       "      <td>100.00</td>\n",
       "      <td>27.74</td>\n",
       "      <td>1.00</td>\n",
       "      <td>0.87</td>\n",
       "      <td>8.78</td>\n",
       "      <td>100.00</td>\n",
       "      <td>12.13</td>\n",
       "      <td>24.00</td>\n",
       "      <td>711.00</td>\n",
       "      <td>22.00</td>\n",
       "      <td>396.90</td>\n",
       "      <td>37.97</td>\n",
       "      <td>50.00</td>\n",
       "    </tr>\n",
       "  </tbody>\n",
       "</table>\n",
       "</div>"
      ],
      "text/plain": [
       "         CRIM      ZN   INDUS    CHAS     NOX      RM     AGE     DIS     RAD  \\\n",
       "count  506.00  506.00  506.00  506.00  506.00  506.00  506.00  506.00  506.00   \n",
       "mean     3.61   11.36   11.14    0.07    0.55    6.28   68.57    3.80    9.55   \n",
       "std      8.60   23.32    6.86    0.25    0.12    0.70   28.15    2.11    8.71   \n",
       "min      0.01    0.00    0.46    0.00    0.38    3.56    2.90    1.13    1.00   \n",
       "25%      0.08    0.00    5.19    0.00    0.45    5.89   45.02    2.10    4.00   \n",
       "50%      0.26    0.00    9.69    0.00    0.54    6.21   77.50    3.21    5.00   \n",
       "75%      3.68   12.50   18.10    0.00    0.62    6.62   94.07    5.19   24.00   \n",
       "max     88.98  100.00   27.74    1.00    0.87    8.78  100.00   12.13   24.00   \n",
       "\n",
       "          TAX  PTRATIO       B   LSTAT    MEDV  \n",
       "count  506.00   506.00  506.00  506.00  506.00  \n",
       "mean   408.24    18.46  356.67   12.65   22.53  \n",
       "std    168.54     2.16   91.29    7.14    9.20  \n",
       "min    187.00    12.60    0.32    1.73    5.00  \n",
       "25%    279.00    17.40  375.38    6.95   17.02  \n",
       "50%    330.00    19.05  391.44   11.36   21.20  \n",
       "75%    666.00    20.20  396.22   16.96   25.00  \n",
       "max    711.00    22.00  396.90   37.97   50.00  "
      ]
     },
     "execution_count": 6,
     "metadata": {},
     "output_type": "execute_result"
    }
   ],
   "source": [
    "df.describe().round(2)"
   ]
  },
  {
   "cell_type": "markdown",
   "id": "bb10b92c",
   "metadata": {},
   "source": [
    "### Procedimiento planteado:  \n",
    " - La evaluación, se realiza dividiendo los datos de la siguiente manera: 80% Train y 20% Test.\n",
    " - Las variables independientes denominados \"X\", corresponden a todas las columnas del dataframe \"df\", eliminando la última columna que corresponde a la variable dependiente \"y\" denominada MEDV (Median value of owner-occupied homes in $1000's) - "
   ]
  },
  {
   "cell_type": "code",
   "execution_count": 7,
   "id": "1123f45b",
   "metadata": {},
   "outputs": [
    {
     "name": "stdout",
     "output_type": "stream",
     "text": [
      "Shape X: (506, 13) \n",
      "Shape y: (506,)\n",
      "Shape X_train: (404, 13) \n",
      "Shape X_test: (102, 13) \n",
      "Shape y_train: (404,) \n",
      "Shape y_test: (102,)\n"
     ]
    }
   ],
   "source": [
    "# train-test split evaluation \n",
    "from sklearn.model_selection import train_test_split\n",
    "from sklearn.ensemble import RandomForestRegressor\n",
    "from sklearn.metrics import mean_absolute_error\n",
    "\n",
    "# load dataset\n",
    "data = df.values\n",
    "\n",
    "# split into inputs and outputs\n",
    "X, y = data[:, :-1], data[:, -1]\n",
    "print(\"Shape X:\", X.shape,\"\\nShape y:\", y.shape)\n",
    "\n",
    "# split into train test sets\n",
    "X_train, X_test, y_train, y_test = train_test_split(X, y, test_size=0.20, random_state=1)\n",
    "print(\"Shape X_train:\", X_train.shape, \"\\nShape X_test:\", X_test.shape, \"\\nShape y_train:\", y_train.shape, \"\\nShape y_test:\",y_test.shape)\n"
   ]
  },
  {
   "cell_type": "markdown",
   "id": "0f553765",
   "metadata": {},
   "source": [
    "**R:**  \n",
    " - El conjunto total de datos tiene 506 filas (observaciones) y 14 columnas (variables).\n",
    " - Solamente la última colunma se concidera variable dependiente (target o output), las otras 13 columnas son variables independientes que se utilizan para predecir el valor promedio de las viviendas.\n",
    " - Al dividir el conjunto de datos en train y test, se escogió hacerlo en 80% train y 20% test.\n",
    " - El 80% equivale a 404 filas.\n",
    " - El 20% equivale a 102 filas."
   ]
  },
  {
   "cell_type": "markdown",
   "id": "ffd271e2",
   "metadata": {},
   "source": [
    "## Ejercicio 2\n",
    "<span style=color:green><b><i>Aplica algún proceso de transformación (estandarizar los datos numéricos, crear columnas dummies, polinomios...).</i></b></span>"
   ]
  },
  {
   "cell_type": "markdown",
   "id": "b899812e",
   "metadata": {},
   "source": [
    "https://scikit-learn.org/stable/modules/preprocessing.html  \n",
    "https://machinelearningmastery.com/polynomial-features-transforms-for-machine-learning/"
   ]
  },
  {
   "cell_type": "markdown",
   "id": "6a0baba5",
   "metadata": {},
   "source": [
    "**ESTANDARIZACIÓN:**"
   ]
  },
  {
   "cell_type": "code",
   "execution_count": 8,
   "id": "5a5b0fad",
   "metadata": {},
   "outputs": [
    {
     "name": "stdout",
     "output_type": "stream",
     "text": [
      "[[-0.42   0.285 -1.288 ... -1.459  0.441 -1.076]\n",
      " [-0.417 -0.488 -0.593 ... -0.303  0.441 -0.492]\n",
      " [-0.417 -0.488 -0.593 ... -0.303  0.396 -1.209]\n",
      " ...\n",
      " [-0.413 -0.488  0.116 ...  1.176  0.441 -0.983]\n",
      " [-0.408 -0.488  0.116 ...  1.176  0.403 -0.865]\n",
      " [-0.415 -0.488  0.116 ...  1.176  0.441 -0.669]]\n"
     ]
    }
   ],
   "source": [
    "from sklearn import linear_model\n",
    "from sklearn.preprocessing import StandardScaler\n",
    "\n",
    "scale = StandardScaler()\n",
    "\n",
    "#En el ejercicio 1, ya se definió el dataset numérico \"data\" y se definió los inputs \"X\":\n",
    "\n",
    "Xscaled = scale.fit_transform(X)\n",
    "\n",
    "print(Xscaled.round(3))"
   ]
  },
  {
   "cell_type": "code",
   "execution_count": 13,
   "id": "835a181f",
   "metadata": {},
   "outputs": [
    {
     "data": {
      "text/html": [
       "<div>\n",
       "<style scoped>\n",
       "    .dataframe tbody tr th:only-of-type {\n",
       "        vertical-align: middle;\n",
       "    }\n",
       "\n",
       "    .dataframe tbody tr th {\n",
       "        vertical-align: top;\n",
       "    }\n",
       "\n",
       "    .dataframe thead th {\n",
       "        text-align: right;\n",
       "    }\n",
       "</style>\n",
       "<table border=\"1\" class=\"dataframe\">\n",
       "  <thead>\n",
       "    <tr style=\"text-align: right;\">\n",
       "      <th></th>\n",
       "      <th>0</th>\n",
       "      <th>1</th>\n",
       "      <th>2</th>\n",
       "      <th>3</th>\n",
       "      <th>4</th>\n",
       "      <th>5</th>\n",
       "      <th>6</th>\n",
       "      <th>7</th>\n",
       "      <th>8</th>\n",
       "      <th>9</th>\n",
       "      <th>10</th>\n",
       "      <th>11</th>\n",
       "      <th>12</th>\n",
       "    </tr>\n",
       "  </thead>\n",
       "  <tbody>\n",
       "    <tr>\n",
       "      <th>count</th>\n",
       "      <td>506.00</td>\n",
       "      <td>506.00</td>\n",
       "      <td>506.00</td>\n",
       "      <td>506.00</td>\n",
       "      <td>506.00</td>\n",
       "      <td>506.00</td>\n",
       "      <td>506.00</td>\n",
       "      <td>506.00</td>\n",
       "      <td>506.00</td>\n",
       "      <td>506.00</td>\n",
       "      <td>506.00</td>\n",
       "      <td>506.00</td>\n",
       "      <td>506.00</td>\n",
       "    </tr>\n",
       "    <tr>\n",
       "      <th>mean</th>\n",
       "      <td>-0.00</td>\n",
       "      <td>0.00</td>\n",
       "      <td>0.00</td>\n",
       "      <td>-0.00</td>\n",
       "      <td>-0.00</td>\n",
       "      <td>-0.00</td>\n",
       "      <td>-0.00</td>\n",
       "      <td>0.00</td>\n",
       "      <td>0.00</td>\n",
       "      <td>-0.00</td>\n",
       "      <td>0.00</td>\n",
       "      <td>-0.00</td>\n",
       "      <td>-0.00</td>\n",
       "    </tr>\n",
       "    <tr>\n",
       "      <th>std</th>\n",
       "      <td>1.00</td>\n",
       "      <td>1.00</td>\n",
       "      <td>1.00</td>\n",
       "      <td>1.00</td>\n",
       "      <td>1.00</td>\n",
       "      <td>1.00</td>\n",
       "      <td>1.00</td>\n",
       "      <td>1.00</td>\n",
       "      <td>1.00</td>\n",
       "      <td>1.00</td>\n",
       "      <td>1.00</td>\n",
       "      <td>1.00</td>\n",
       "      <td>1.00</td>\n",
       "    </tr>\n",
       "    <tr>\n",
       "      <th>min</th>\n",
       "      <td>-0.42</td>\n",
       "      <td>-0.49</td>\n",
       "      <td>-1.56</td>\n",
       "      <td>-0.27</td>\n",
       "      <td>-1.47</td>\n",
       "      <td>-3.88</td>\n",
       "      <td>-2.34</td>\n",
       "      <td>-1.27</td>\n",
       "      <td>-0.98</td>\n",
       "      <td>-1.31</td>\n",
       "      <td>-2.71</td>\n",
       "      <td>-3.91</td>\n",
       "      <td>-1.53</td>\n",
       "    </tr>\n",
       "    <tr>\n",
       "      <th>25%</th>\n",
       "      <td>-0.41</td>\n",
       "      <td>-0.49</td>\n",
       "      <td>-0.87</td>\n",
       "      <td>-0.27</td>\n",
       "      <td>-0.91</td>\n",
       "      <td>-0.57</td>\n",
       "      <td>-0.84</td>\n",
       "      <td>-0.81</td>\n",
       "      <td>-0.64</td>\n",
       "      <td>-0.77</td>\n",
       "      <td>-0.49</td>\n",
       "      <td>0.21</td>\n",
       "      <td>-0.80</td>\n",
       "    </tr>\n",
       "    <tr>\n",
       "      <th>50%</th>\n",
       "      <td>-0.39</td>\n",
       "      <td>-0.49</td>\n",
       "      <td>-0.21</td>\n",
       "      <td>-0.27</td>\n",
       "      <td>-0.14</td>\n",
       "      <td>-0.11</td>\n",
       "      <td>0.32</td>\n",
       "      <td>-0.28</td>\n",
       "      <td>-0.52</td>\n",
       "      <td>-0.46</td>\n",
       "      <td>0.27</td>\n",
       "      <td>0.38</td>\n",
       "      <td>-0.18</td>\n",
       "    </tr>\n",
       "    <tr>\n",
       "      <th>75%</th>\n",
       "      <td>0.01</td>\n",
       "      <td>0.05</td>\n",
       "      <td>1.02</td>\n",
       "      <td>-0.27</td>\n",
       "      <td>0.60</td>\n",
       "      <td>0.48</td>\n",
       "      <td>0.91</td>\n",
       "      <td>0.66</td>\n",
       "      <td>1.66</td>\n",
       "      <td>1.53</td>\n",
       "      <td>0.81</td>\n",
       "      <td>0.43</td>\n",
       "      <td>0.60</td>\n",
       "    </tr>\n",
       "    <tr>\n",
       "      <th>max</th>\n",
       "      <td>9.93</td>\n",
       "      <td>3.80</td>\n",
       "      <td>2.42</td>\n",
       "      <td>3.67</td>\n",
       "      <td>2.73</td>\n",
       "      <td>3.56</td>\n",
       "      <td>1.12</td>\n",
       "      <td>3.96</td>\n",
       "      <td>1.66</td>\n",
       "      <td>1.80</td>\n",
       "      <td>1.64</td>\n",
       "      <td>0.44</td>\n",
       "      <td>3.55</td>\n",
       "    </tr>\n",
       "  </tbody>\n",
       "</table>\n",
       "</div>"
      ],
      "text/plain": [
       "           0       1       2       3       4       5       6       7       8   \\\n",
       "count  506.00  506.00  506.00  506.00  506.00  506.00  506.00  506.00  506.00   \n",
       "mean    -0.00    0.00    0.00   -0.00   -0.00   -0.00   -0.00    0.00    0.00   \n",
       "std      1.00    1.00    1.00    1.00    1.00    1.00    1.00    1.00    1.00   \n",
       "min     -0.42   -0.49   -1.56   -0.27   -1.47   -3.88   -2.34   -1.27   -0.98   \n",
       "25%     -0.41   -0.49   -0.87   -0.27   -0.91   -0.57   -0.84   -0.81   -0.64   \n",
       "50%     -0.39   -0.49   -0.21   -0.27   -0.14   -0.11    0.32   -0.28   -0.52   \n",
       "75%      0.01    0.05    1.02   -0.27    0.60    0.48    0.91    0.66    1.66   \n",
       "max      9.93    3.80    2.42    3.67    2.73    3.56    1.12    3.96    1.66   \n",
       "\n",
       "           9       10      11      12  \n",
       "count  506.00  506.00  506.00  506.00  \n",
       "mean    -0.00    0.00   -0.00   -0.00  \n",
       "std      1.00    1.00    1.00    1.00  \n",
       "min     -1.31   -2.71   -3.91   -1.53  \n",
       "25%     -0.77   -0.49    0.21   -0.80  \n",
       "50%     -0.46    0.27    0.38   -0.18  \n",
       "75%      1.53    0.81    0.43    0.60  \n",
       "max      1.80    1.64    0.44    3.55  "
      ]
     },
     "execution_count": 13,
     "metadata": {},
     "output_type": "execute_result"
    }
   ],
   "source": [
    "df_standard = pd.DataFrame(Xscaled)\n",
    "df_standard.describe().round(2)"
   ]
  },
  {
   "cell_type": "code",
   "execution_count": 15,
   "id": "5716178d",
   "metadata": {},
   "outputs": [
    {
     "data": {
      "text/plain": [
       "<Figure size 1440x720 with 0 Axes>"
      ]
     },
     "metadata": {},
     "output_type": "display_data"
    },
    {
     "data": {
      "image/png": "[encoded data removed]",
      "text/plain": [
       "<Figure size 432x288 with 16 Axes>"
      ]
     },
     "metadata": {
      "needs_background": "light"
     },
     "output_type": "display_data"
    }
   ],
   "source": [
    "plt.figure(figsize = (20,10))\n",
    "df_standard.hist()\n",
    "plt.tight_layout() # para que no se superpongan las graficas"
   ]
  },
  {
   "cell_type": "markdown",
   "id": "3a3aa5e4",
   "metadata": {},
   "source": [
    "**NORMALIZACIÓN:**"
   ]
  },
  {
   "cell_type": "code",
   "execution_count": 10,
   "id": "cd3b86e7",
   "metadata": {},
   "outputs": [
    {
     "name": "stdout",
     "output_type": "stream",
     "text": [
      "[[0.    0.18  0.068 ... 0.287 1.    0.09 ]\n",
      " [0.    0.    0.242 ... 0.553 1.    0.204]\n",
      " [0.    0.    0.242 ... 0.553 0.99  0.063]\n",
      " ...\n",
      " [0.001 0.    0.42  ... 0.894 1.    0.108]\n",
      " [0.001 0.    0.42  ... 0.894 0.991 0.131]\n",
      " [0.    0.    0.42  ... 0.894 1.    0.17 ]]\n"
     ]
    }
   ],
   "source": [
    "from sklearn import linear_model\n",
    "from sklearn.preprocessing import MinMaxScaler\n",
    "\n",
    "normalized = MinMaxScaler()\n",
    "\n",
    "#En el ejercicio 1, ya se definió el dataset numérico \"data\" y se definió los inputs \"X\":\n",
    "\n",
    "Xnormalized = normalized.fit_transform(X)\n",
    "\n",
    "print(Xnormalized.round(3))"
   ]
  },
  {
   "cell_type": "code",
   "execution_count": 14,
   "id": "11d78cb7",
   "metadata": {},
   "outputs": [
    {
     "data": {
      "text/html": [
       "<div>\n",
       "<style scoped>\n",
       "    .dataframe tbody tr th:only-of-type {\n",
       "        vertical-align: middle;\n",
       "    }\n",
       "\n",
       "    .dataframe tbody tr th {\n",
       "        vertical-align: top;\n",
       "    }\n",
       "\n",
       "    .dataframe thead th {\n",
       "        text-align: right;\n",
       "    }\n",
       "</style>\n",
       "<table border=\"1\" class=\"dataframe\">\n",
       "  <thead>\n",
       "    <tr style=\"text-align: right;\">\n",
       "      <th></th>\n",
       "      <th>0</th>\n",
       "      <th>1</th>\n",
       "      <th>2</th>\n",
       "      <th>3</th>\n",
       "      <th>4</th>\n",
       "      <th>5</th>\n",
       "      <th>6</th>\n",
       "      <th>7</th>\n",
       "      <th>8</th>\n",
       "      <th>9</th>\n",
       "      <th>10</th>\n",
       "      <th>11</th>\n",
       "      <th>12</th>\n",
       "    </tr>\n",
       "  </thead>\n",
       "  <tbody>\n",
       "    <tr>\n",
       "      <th>count</th>\n",
       "      <td>506.00</td>\n",
       "      <td>506.00</td>\n",
       "      <td>506.00</td>\n",
       "      <td>506.00</td>\n",
       "      <td>506.00</td>\n",
       "      <td>506.00</td>\n",
       "      <td>506.00</td>\n",
       "      <td>506.00</td>\n",
       "      <td>506.00</td>\n",
       "      <td>506.00</td>\n",
       "      <td>506.00</td>\n",
       "      <td>506.00</td>\n",
       "      <td>506.00</td>\n",
       "    </tr>\n",
       "    <tr>\n",
       "      <th>mean</th>\n",
       "      <td>0.04</td>\n",
       "      <td>0.11</td>\n",
       "      <td>0.39</td>\n",
       "      <td>0.07</td>\n",
       "      <td>0.35</td>\n",
       "      <td>0.52</td>\n",
       "      <td>0.68</td>\n",
       "      <td>0.24</td>\n",
       "      <td>0.37</td>\n",
       "      <td>0.42</td>\n",
       "      <td>0.62</td>\n",
       "      <td>0.90</td>\n",
       "      <td>0.30</td>\n",
       "    </tr>\n",
       "    <tr>\n",
       "      <th>std</th>\n",
       "      <td>0.10</td>\n",
       "      <td>0.23</td>\n",
       "      <td>0.25</td>\n",
       "      <td>0.25</td>\n",
       "      <td>0.24</td>\n",
       "      <td>0.13</td>\n",
       "      <td>0.29</td>\n",
       "      <td>0.19</td>\n",
       "      <td>0.38</td>\n",
       "      <td>0.32</td>\n",
       "      <td>0.23</td>\n",
       "      <td>0.23</td>\n",
       "      <td>0.20</td>\n",
       "    </tr>\n",
       "    <tr>\n",
       "      <th>min</th>\n",
       "      <td>0.00</td>\n",
       "      <td>0.00</td>\n",
       "      <td>0.00</td>\n",
       "      <td>0.00</td>\n",
       "      <td>0.00</td>\n",
       "      <td>0.00</td>\n",
       "      <td>0.00</td>\n",
       "      <td>0.00</td>\n",
       "      <td>0.00</td>\n",
       "      <td>0.00</td>\n",
       "      <td>0.00</td>\n",
       "      <td>0.00</td>\n",
       "      <td>0.00</td>\n",
       "    </tr>\n",
       "    <tr>\n",
       "      <th>25%</th>\n",
       "      <td>0.00</td>\n",
       "      <td>0.00</td>\n",
       "      <td>0.17</td>\n",
       "      <td>0.00</td>\n",
       "      <td>0.13</td>\n",
       "      <td>0.45</td>\n",
       "      <td>0.43</td>\n",
       "      <td>0.09</td>\n",
       "      <td>0.13</td>\n",
       "      <td>0.18</td>\n",
       "      <td>0.51</td>\n",
       "      <td>0.95</td>\n",
       "      <td>0.14</td>\n",
       "    </tr>\n",
       "    <tr>\n",
       "      <th>50%</th>\n",
       "      <td>0.00</td>\n",
       "      <td>0.00</td>\n",
       "      <td>0.34</td>\n",
       "      <td>0.00</td>\n",
       "      <td>0.31</td>\n",
       "      <td>0.51</td>\n",
       "      <td>0.77</td>\n",
       "      <td>0.19</td>\n",
       "      <td>0.17</td>\n",
       "      <td>0.27</td>\n",
       "      <td>0.69</td>\n",
       "      <td>0.99</td>\n",
       "      <td>0.27</td>\n",
       "    </tr>\n",
       "    <tr>\n",
       "      <th>75%</th>\n",
       "      <td>0.04</td>\n",
       "      <td>0.12</td>\n",
       "      <td>0.65</td>\n",
       "      <td>0.00</td>\n",
       "      <td>0.49</td>\n",
       "      <td>0.59</td>\n",
       "      <td>0.94</td>\n",
       "      <td>0.37</td>\n",
       "      <td>1.00</td>\n",
       "      <td>0.91</td>\n",
       "      <td>0.81</td>\n",
       "      <td>1.00</td>\n",
       "      <td>0.42</td>\n",
       "    </tr>\n",
       "    <tr>\n",
       "      <th>max</th>\n",
       "      <td>1.00</td>\n",
       "      <td>1.00</td>\n",
       "      <td>1.00</td>\n",
       "      <td>1.00</td>\n",
       "      <td>1.00</td>\n",
       "      <td>1.00</td>\n",
       "      <td>1.00</td>\n",
       "      <td>1.00</td>\n",
       "      <td>1.00</td>\n",
       "      <td>1.00</td>\n",
       "      <td>1.00</td>\n",
       "      <td>1.00</td>\n",
       "      <td>1.00</td>\n",
       "    </tr>\n",
       "  </tbody>\n",
       "</table>\n",
       "</div>"
      ],
      "text/plain": [
       "           0       1       2       3       4       5       6       7       8   \\\n",
       "count  506.00  506.00  506.00  506.00  506.00  506.00  506.00  506.00  506.00   \n",
       "mean     0.04    0.11    0.39    0.07    0.35    0.52    0.68    0.24    0.37   \n",
       "std      0.10    0.23    0.25    0.25    0.24    0.13    0.29    0.19    0.38   \n",
       "min      0.00    0.00    0.00    0.00    0.00    0.00    0.00    0.00    0.00   \n",
       "25%      0.00    0.00    0.17    0.00    0.13    0.45    0.43    0.09    0.13   \n",
       "50%      0.00    0.00    0.34    0.00    0.31    0.51    0.77    0.19    0.17   \n",
       "75%      0.04    0.12    0.65    0.00    0.49    0.59    0.94    0.37    1.00   \n",
       "max      1.00    1.00    1.00    1.00    1.00    1.00    1.00    1.00    1.00   \n",
       "\n",
       "           9       10      11      12  \n",
       "count  506.00  506.00  506.00  506.00  \n",
       "mean     0.42    0.62    0.90    0.30  \n",
       "std      0.32    0.23    0.23    0.20  \n",
       "min      0.00    0.00    0.00    0.00  \n",
       "25%      0.18    0.51    0.95    0.14  \n",
       "50%      0.27    0.69    0.99    0.27  \n",
       "75%      0.91    0.81    1.00    0.42  \n",
       "max      1.00    1.00    1.00    1.00  "
      ]
     },
     "execution_count": 14,
     "metadata": {},
     "output_type": "execute_result"
    }
   ],
   "source": [
    "df_normalized = pd.DataFrame(Xnormalized)\n",
    "df_normalized.describe().round(2)"
   ]
  },
  {
   "cell_type": "code",
   "execution_count": 17,
   "id": "86a68682",
   "metadata": {},
   "outputs": [
    {
     "data": {
      "text/plain": [
       "<Figure size 1440x720 with 0 Axes>"
      ]
     },
     "metadata": {},
     "output_type": "display_data"
    },
    {
     "data": {
      "image/png": "[encoded data removed]",
      "text/plain": [
       "<Figure size 432x288 with 16 Axes>"
      ]
     },
     "metadata": {
      "needs_background": "light"
     },
     "output_type": "display_data"
    }
   ],
   "source": [
    "plt.figure(figsize = (20,10))\n",
    "df_normalized.hist()\n",
    "plt.tight_layout() # para que no se superpongan las graficas"
   ]
  },
  {
   "cell_type": "markdown",
   "id": "a4c4a6fc",
   "metadata": {},
   "source": [
    "**DUMMIES:**"
   ]
  },
  {
   "cell_type": "markdown",
   "id": "5ddc79c2",
   "metadata": {},
   "source": [
    "Como se observó en la información del dataframe, todos los valores son numéricos, NO EXISTEN valores categóricos que requieran convertise en dummies.  \n",
    "  \n",
    "*OBERVASIÓN: La columna \"CHAS\", ya está establecida como una variable dummy, donde (= 1 if tract bounds river; 0 otherwise).*"
   ]
  },
  {
   "cell_type": "markdown",
   "id": "ff217ae5",
   "metadata": {},
   "source": [
    "**POLYNOMIAL FEATURE:**"
   ]
  },
  {
   "cell_type": "markdown",
   "id": "50f6adb5",
   "metadata": {},
   "source": [
    " - Podemos aplicar DIRECTAMENTE la transformación polinómica al conjunto de datos.\n",
    " - En este caso, usaremos un grado de 3. (Se recomienda 2 o 3)"
   ]
  },
  {
   "cell_type": "code",
   "execution_count": 18,
   "id": "780ad8dc",
   "metadata": {},
   "outputs": [
    {
     "name": "stdout",
     "output_type": "stream",
     "text": [
      "(506, 560)\n"
     ]
    }
   ],
   "source": [
    "# visualize a polynomial features transform\n",
    "from pandas import DataFrame\n",
    "from sklearn.preprocessing import PolynomialFeatures\n",
    "\n",
    "# retrieve just the numeric INPUT values (X)\n",
    "data = df.values[:, :-1]\n",
    "\n",
    "# perform a polynomial features transform of the dataset\n",
    "trans = PolynomialFeatures(degree=3)\n",
    "X_Polynomial = trans.fit_transform(data)\n",
    "\n",
    "# summarize\n",
    "print(X_Polynomial.shape)"
   ]
  },
  {
   "cell_type": "markdown",
   "id": "cfcb5fa0",
   "metadata": {},
   "source": [
    " - Podemos observar como las columnas aumentaron de 13 a 560 (INPUTS)"
   ]
  },
  {
   "cell_type": "markdown",
   "id": "fb12eb5f",
   "metadata": {},
   "source": [
    "## Ejercicio 3\n",
    "<span style=color:green><b><i>Resume las nuevas columnas generadas de forma estadística y gráfica</i></b></span>"
   ]
  },
  {
   "cell_type": "markdown",
   "id": "6977267f",
   "metadata": {},
   "source": [
    "**Efecto del grado del polinomio**  \n",
    " - El grado del polinomio incrementa el número de inputs (columnas) \n",
    " - Se genere una nueva matriz que consiste en todas las combinaciones de polinomios de las características (columna) con un grado menor o igual que el grado especificado. Por ejemplo, si una muestra de entrada es bidimensional y tiene la forma [a, b], las características polinómicas de grado 2 son [1, a, b, a^2, ab, b^2].\n",
    " - El \"grado\" del polinomio se usa para controlar la cantidad de características agregadas, por lo general, se usa un grado pequeño, como 2 o 3.\n"
   ]
  },
  {
   "cell_type": "code",
   "execution_count": 23,
   "id": "4fe94d41",
   "metadata": {},
   "outputs": [
    {
     "name": "stdout",
     "output_type": "stream",
     "text": [
      "Degree: 1, Features: 14\n",
      "Degree: 2, Features: 105\n",
      "Degree: 3, Features: 560\n",
      "Degree: 4, Features: 2380\n",
      "Degree: 5, Features: 8568\n"
     ]
    },
    {
     "data": {
      "image/png": "[encoded data removed]",
      "text/plain": [
       "<Figure size 432x288 with 1 Axes>"
      ]
     },
     "metadata": {
      "needs_background": "light"
     },
     "output_type": "display_data"
    }
   ],
   "source": [
    "# compare the effect of the degree on the number of created features\n",
    "from sklearn.preprocessing import LabelEncoder\n",
    "from sklearn.preprocessing import PolynomialFeatures\n",
    "from matplotlib import pyplot\n",
    "\n",
    "# define dataset\n",
    "data = df.values\n",
    "X, y = data[:, :-1], data[:, -1]\n",
    "\n",
    "# calculate change in number of features\n",
    "num_features = list()\n",
    "degress = [i for i in range(1, 6)]\n",
    "for d in degress:\n",
    "    # create transform\n",
    "    trans = PolynomialFeatures(degree=d)\n",
    "    # fit and transform\n",
    "    data = trans.fit_transform(X)\n",
    "    # record number of features\n",
    "    num_features.append(data.shape[1])\n",
    "    # summarize\n",
    "    print('Degree: %d, Features: %d' % (d, data.shape[1]))\n",
    "# plot degree vs number of features\n",
    "pyplot.plot(degress, num_features)\n",
    "pyplot.show()"
   ]
  },
  {
   "cell_type": "markdown",
   "id": "e56ed25c",
   "metadata": {},
   "source": [
    "A partir de un grado = 3, se observa un considerable incremento de input (columnas)."
   ]
  },
  {
   "cell_type": "code",
   "execution_count": null,
   "id": "7eae8bb0",
   "metadata": {},
   "outputs": [],
   "source": []
  }
 ],
 "metadata": {
  "kernelspec": {
   "display_name": "Python 3 (ipykernel)",
   "language": "python",
   "name": "python3"
  },
  "language_info": {
   "codemirror_mode": {
    "name": "ipython",
    "version": 3
   },
   "file_extension": ".py",
   "mimetype": "text/x-python",
   "name": "python",
   "nbconvert_exporter": "python",
   "pygments_lexer": "ipython3",
   "version": "3.9.7"
  }
 },
 "nbformat": 4,
 "nbformat_minor": 5
}
